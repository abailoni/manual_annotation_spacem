{
 "cells": [
  {
   "cell_type": "code",
   "execution_count": 1,
   "metadata": {
    "collapsed": true
   },
   "outputs": [],
   "source": [
    "from skimage import data\n",
    "import napari\n"
   ]
  },
  {
   "cell_type": "code",
   "execution_count": 2,
   "metadata": {},
   "outputs": [
    {
     "ename": "NameError",
     "evalue": "name 'napari' is not defined",
     "output_type": "error",
     "traceback": [
      "\u001B[0;31m---------------------------------------------------------------------------\u001B[0m",
      "\u001B[0;31mNameError\u001B[0m                                 Traceback (most recent call last)",
      "Cell \u001B[0;32mIn [2], line 1\u001B[0m\n\u001B[0;32m----> 1\u001B[0m viewer \u001B[38;5;241m=\u001B[39m \u001B[43mnapari\u001B[49m\u001B[38;5;241m.\u001B[39mview_image(data\u001B[38;5;241m.\u001B[39mmoon())\n",
      "\u001B[0;31mNameError\u001B[0m: name 'napari' is not defined"
     ]
    }
   ],
   "source": [
    "viewer = napari.view_image(data.moon())\n"
   ]
  },
  {
   "cell_type": "markdown",
   "metadata": {},
   "source": [
    "## Paquo stuff"
   ]
  },
  {
   "cell_type": "code",
   "execution_count": 1,
   "metadata": {},
   "outputs": [],
   "source": [
    "%matplotlib inline\n",
    "%load_ext autoreload\n",
    "%autoreload 2\n",
    "\n",
    "try:\n",
    "    import paquo\n",
    "    from paquo.projects import QuPathProject\n",
    "    from paquo.images import QuPathImageType\n",
    "    from paquo.classes import QuPathPathClass\n",
    "    from shapely.geometry import Polygon\n",
    "except ImportError:\n",
    "    paquo = None\n",
    "\n",
    "import os\n",
    "from urllib.parse import urlparse"
   ]
  },
  {
   "cell_type": "code",
   "execution_count": 2,
   "metadata": {},
   "outputs": [
    {
     "name": "stdout",
     "output_type": "stream",
     "text": [
      "12:28:04.668 [main] [DEBUG] qupath.lib.projects.DefaultProject - Writing project to /Users/alberto-mac/Documents/DA_ESPORTARE/LOCAL_EMBL_FILES/scratch/projects/cellpose_training_projects/jeany/nov_22_HTpaper/QuPathProjectBAK/project.qpproj.tmp\n",
      "12:28:04.674 [main] [DEBUG] qupath.lib.projects.DefaultProject - Backing up existing project to /Users/alberto-mac/Documents/DA_ESPORTARE/LOCAL_EMBL_FILES/scratch/projects/cellpose_training_projects/jeany/nov_22_HTpaper/QuPathProjectBAK/project.qpproj.backup\n",
      "12:28:04.676 [main] [DEBUG] qupath.lib.projects.DefaultProject - Renaming project to /Users/alberto-mac/Documents/DA_ESPORTARE/LOCAL_EMBL_FILES/scratch/projects/cellpose_training_projects/jeany/nov_22_HTpaper/QuPathProjectBAK/project.qpproj\n"
     ]
    }
   ],
   "source": [
    "qupath_proj_dir = \"/Users/alberto-mac/Documents/DA_ESPORTARE/LOCAL_EMBL_FILES/scratch/projects/cellpose_training_projects/jeany/nov_22_HTpaper/QuPathProjectBAK\"\n",
    "\n",
    "with QuPathProject(qupath_proj_dir, mode=\"r+\") as qp:\n",
    "    for entry in qp.images:\n",
    "        uri = entry.uri\n",
    "        folder_uri, image_name = os.path.split(uri)\n",
    "        # for rel_dir in rel_path_in_proj:\n",
    "        #     assert rel_dir in folder_uri\n",
    "\n",
    "        # Parse path of the image:\n",
    "        p = urlparse(folder_uri)\n",
    "        folder_path = os.path.abspath(os.path.join(p.netloc, p.path))\n",
    "        break\n",
    "\n",
    "        # # Check if project folder has changed:\n",
    "        # if proj_dir not in Path(folder_path).parents:\n",
    "        #     new_path = os.path.join(proj_dir, *rel_path_in_proj, image_name)\n",
    "        #     assert os.path.isfile(new_path), \"QuPath image not found!\"\n",
    "        #     qp.update_image_paths(uri2uri={uri: qp._image_provider.uri(new_path)})\n"
   ]
  },
  {
   "cell_type": "code",
   "execution_count": 39,
   "outputs": [
    {
     "name": "stdout",
     "output_type": "stream",
     "text": [
      "Deleting ROI file:///Users/alberto-mac/Documents/DA_ESPORTARE/LOCAL_EMBL_FILES/scratch/projects/cellpose_training_projects/jeany/nov_22_HTpaper/QuPathProject/input_images/0000.ome.tif from QuPath project\n",
      "file:///Users/alberto-mac/Documents/DA_ESPORTARE/LOCAL_EMBL_FILES/scratch/projects/cellpose_training_projects/jeany/nov_22_HTpaper/QuPathProject/input_images/0000.ome.tif\n",
      "file:///Users/alberto-mac/Documents/DA_ESPORTARE/LOCAL_EMBL_FILES/scratch/projects/cellpose_training_projects/jeany/nov_22_HTpaper/QuPathProject/input_images/0001.ome.tif\n",
      "file:///Users/alberto-mac/Documents/DA_ESPORTARE/LOCAL_EMBL_FILES/scratch/projects/cellpose_training_projects/jeany/nov_22_HTpaper/QuPathProject/input_images/0002.ome.tif\n",
      "file:///Users/alberto-mac/Documents/DA_ESPORTARE/LOCAL_EMBL_FILES/scratch/projects/cellpose_training_projects/jeany/nov_22_HTpaper/QuPathProject/input_images/0003.ome.tif\n",
      "file:/Users/alberto-mac/EMBL_ATeam/cellpose_training_pipeline/test_images/img1/fused_tp_0_ch_2.tif\n",
      "file:/Users/alberto-mac/Documents/DA_ESPORTARE/LOCAL_EMBL_FILES/scratch/projects/cellpose_training_projects/jeany/nov_22_HTpaper/QuPathProjectBAK/input_images/000test.ome.tif\n",
      "13:55:55.421 [main] [DEBUG] qupath.lib.projects.DefaultProject - Writing project to /Users/alberto-mac/Documents/DA_ESPORTARE/LOCAL_EMBL_FILES/scratch/projects/cellpose_training_projects/jeany/nov_22_HTpaper/QuPathProjectBAK/project.qpproj.tmp\n",
      "13:55:55.421 [main] [DEBUG] qupath.lib.projects.DefaultProject - Backing up existing project to /Users/alberto-mac/Documents/DA_ESPORTARE/LOCAL_EMBL_FILES/scratch/projects/cellpose_training_projects/jeany/nov_22_HTpaper/QuPathProjectBAK/project.qpproj.backup\n",
      "13:55:55.421 [main] [DEBUG] qupath.lib.projects.DefaultProject - Renaming project to /Users/alberto-mac/Documents/DA_ESPORTARE/LOCAL_EMBL_FILES/scratch/projects/cellpose_training_projects/jeany/nov_22_HTpaper/QuPathProjectBAK/project.qpproj\n",
      "13:55:56.137 [main] [DEBUG] qupath.lib.projects.DefaultProject - Writing project to /Users/alberto-mac/Documents/DA_ESPORTARE/LOCAL_EMBL_FILES/scratch/projects/cellpose_training_projects/jeany/nov_22_HTpaper/QuPathProjectBAK/project.qpproj.tmp\n",
      "13:55:56.140 [main] [DEBUG] qupath.lib.projects.DefaultProject - Backing up existing project to /Users/alberto-mac/Documents/DA_ESPORTARE/LOCAL_EMBL_FILES/scratch/projects/cellpose_training_projects/jeany/nov_22_HTpaper/QuPathProjectBAK/project.qpproj.backup\n",
      "13:55:56.141 [main] [DEBUG] qupath.lib.projects.DefaultProject - Renaming project to /Users/alberto-mac/Documents/DA_ESPORTARE/LOCAL_EMBL_FILES/scratch/projects/cellpose_training_projects/jeany/nov_22_HTpaper/QuPathProjectBAK/project.qpproj\n"
     ]
    },
    {
     "ename": "AttributeError",
     "evalue": "'qupath.lib.projects.DefaultProject' object has no attribute 'refreshProject'",
     "output_type": "error",
     "traceback": [
      "\u001B[0;31m---------------------------------------------------------------------------\u001B[0m",
      "\u001B[0;31mAttributeError\u001B[0m                            Traceback (most recent call last)",
      "Cell \u001B[0;32mIn [39], line 10\u001B[0m\n\u001B[1;32m      7\u001B[0m \u001B[38;5;66;03m# add_image_to_project(qupath_proj_dir, test_image_path)\u001B[39;00m\n\u001B[1;32m      8\u001B[0m \u001B[38;5;28;01mwith\u001B[39;00m QuPathProject(qupath_proj_dir, mode\u001B[38;5;241m=\u001B[39m\u001B[38;5;124m\"\u001B[39m\u001B[38;5;124mr+\u001B[39m\u001B[38;5;124m\"\u001B[39m) \u001B[38;5;28;01mas\u001B[39;00m qp:\n\u001B[1;32m      9\u001B[0m     \u001B[38;5;66;03m# uri = qp._image_provider.uri(test_image_path)\u001B[39;00m\n\u001B[0;32m---> 10\u001B[0m     \u001B[43mdelete_image_from_project\u001B[49m\u001B[43m(\u001B[49m\u001B[43mqupath_proj_dir\u001B[49m\u001B[43m,\u001B[49m\u001B[43m \u001B[49m\u001B[43mqp\u001B[49m\u001B[38;5;241;43m.\u001B[39;49m\u001B[43m_image_provider\u001B[49m\u001B[38;5;241;43m.\u001B[39;49m\u001B[43muri\u001B[49m\u001B[43m(\u001B[49m\u001B[43mtest_image_path\u001B[49m\u001B[43m)\u001B[49m\u001B[43m)\u001B[49m\n",
      "File \u001B[0;32m~/EMBL_repos/cellpose-training-gui/traincellpose/qupath/update_qupath_proj.py:84\u001B[0m, in \u001B[0;36mdelete_image_from_project\u001B[0;34m(qupath_proj_dir, image_path)\u001B[0m\n\u001B[1;32m     78\u001B[0m \u001B[38;5;66;03m# if not isinstance(image_id, (int, slice)):\u001B[39;00m\n\u001B[1;32m     79\u001B[0m \u001B[38;5;66;03m#     assert isinstance(image_id, np.ndarray)\u001B[39;00m\n\u001B[1;32m     80\u001B[0m \u001B[38;5;66;03m#     image_id = image_id.item()\u001B[39;00m\n\u001B[1;32m     82\u001B[0m \u001B[38;5;28;01mwith\u001B[39;00m QuPathProject(qupath_proj_dir, mode\u001B[38;5;241m=\u001B[39m\u001B[38;5;124m\"\u001B[39m\u001B[38;5;124mr+\u001B[39m\u001B[38;5;124m\"\u001B[39m) \u001B[38;5;28;01mas\u001B[39;00m qp:\n\u001B[1;32m     83\u001B[0m     \u001B[38;5;66;03m# image_entry_id = '{}'.format(image_id + 1)\u001B[39;00m\n\u001B[0;32m---> 84\u001B[0m     \u001B[43mqp\u001B[49m\u001B[38;5;241;43m.\u001B[39;49m\u001B[43mremove_image\u001B[49m\u001B[43m(\u001B[49m\u001B[43mimage_path\u001B[49m\u001B[43m,\u001B[49m\u001B[43m \u001B[49m\u001B[43mensure_exists\u001B[49m\u001B[38;5;241;43m=\u001B[39;49m\u001B[38;5;28;43;01mTrue\u001B[39;49;00m\u001B[43m)\u001B[49m\n\u001B[1;32m     85\u001B[0m     \u001B[38;5;28mprint\u001B[39m(\u001B[38;5;124m\"\u001B[39m\u001B[38;5;124mremoved\u001B[39m\u001B[38;5;124m\"\u001B[39m)\n",
      "File \u001B[0;32m~/EMBL_repos/paquo/paquo/projects.py:465\u001B[0m, in \u001B[0;36mQuPathProject.remove_image\u001B[0;34m(self, image_path, ensure_exists)\u001B[0m\n\u001B[1;32m    463\u001B[0m entry_to_be_removed \u001B[38;5;241m=\u001B[39m \u001B[38;5;28mself\u001B[39m\u001B[38;5;241m.\u001B[39mimages[idx_uri_to_delete]\n\u001B[1;32m    464\u001B[0m \u001B[38;5;28mself\u001B[39m\u001B[38;5;241m.\u001B[39mjava_object\u001B[38;5;241m.\u001B[39mremoveImage(entry_to_be_removed\u001B[38;5;241m.\u001B[39mjava_object, \u001B[38;5;28;01mTrue\u001B[39;00m)\n\u001B[0;32m--> 465\u001B[0m \u001B[38;5;28;43mself\u001B[39;49m\u001B[38;5;241;43m.\u001B[39;49m\u001B[43mjava_object\u001B[49m\u001B[38;5;241;43m.\u001B[39;49m\u001B[43mrefreshProject\u001B[49m()\n\u001B[1;32m    466\u001B[0m _log\u001B[38;5;241m.\u001B[39minfo(\u001B[38;5;124mf\u001B[39m\u001B[38;5;124m\"\u001B[39m\u001B[38;5;124mImage \u001B[39m\u001B[38;5;132;01m{\u001B[39;00mimage_path\u001B[38;5;132;01m}\u001B[39;00m\u001B[38;5;124m removed from project\u001B[39m\u001B[38;5;124m\"\u001B[39m)\n\u001B[1;32m    467\u001B[0m \u001B[38;5;28mself\u001B[39m\u001B[38;5;241m.\u001B[39msave(images\u001B[38;5;241m=\u001B[39m\u001B[38;5;28;01mFalse\u001B[39;00m)\n",
      "\u001B[0;31mAttributeError\u001B[0m: 'qupath.lib.projects.DefaultProject' object has no attribute 'refreshProject'"
     ]
    }
   ],
   "source": [
    "from traincellpose.qupath.update_qupath_proj import add_image_to_project, delete_image_from_project\n",
    "\n",
    "# test_image_path = \"/Users/alberto-mac/Documents/DA_ESPORTARE/LOCAL_EMBL_FILES/scratch/projects/cellpose_training_projects/jeany/nov_22_HTpaper/QuPathProjectBAK/input_images/000test.ome.tif\"\n",
    "# test_image_path = \"/Users/alberto-mac/EMBL_ATeam/cellpose_training_pipeline/test_images/img1/fused_tp_0_ch_2.tif\"\n",
    "test_image_path = \"/Users/alberto-mac/Documents/DA_ESPORTARE/LOCAL_EMBL_FILES/scratch/projects/cellpose_training_projects/jeany/nov_22_HTpaper/QuPathProject/input_images/0000.ome.tif\"\n",
    "\n",
    "# add_image_to_project(qupath_proj_dir, test_image_path)\n",
    "with QuPathProject(qupath_proj_dir, mode=\"r+\") as qp:\n",
    "    # uri = qp._image_provider.uri(test_image_path)\n",
    "    delete_image_from_project(qupath_proj_dir, qp._image_provider.uri(test_image_path))"
   ],
   "metadata": {
    "collapsed": false
   }
  },
  {
   "cell_type": "code",
   "execution_count": 36,
   "outputs": [
    {
     "data": {
      "text/plain": "'/Users/alberto-mac/EMBL_ATeam/cellpose_training_pipeline/test_images/img1/fused_tp_0_ch_2.tif'"
     },
     "execution_count": 36,
     "metadata": {},
     "output_type": "execute_result"
    }
   ],
   "source": [
    "urlparse(uri).path"
   ],
   "metadata": {
    "collapsed": false
   }
  },
  {
   "cell_type": "code",
   "execution_count": 5,
   "outputs": [
    {
     "data": {
      "text/plain": "'1'"
     },
     "execution_count": 5,
     "metadata": {},
     "output_type": "execute_result"
    }
   ],
   "source": [
    "entry.entry_id\n"
   ],
   "metadata": {
    "collapsed": false
   }
  },
  {
   "cell_type": "code",
   "execution_count": null,
   "outputs": [],
   "source": [],
   "metadata": {
    "collapsed": false
   }
  }
 ],
 "metadata": {
  "kernelspec": {
   "display_name": "Python 3 (ipykernel)",
   "language": "python",
   "name": "python3"
  },
  "language_info": {
   "codemirror_mode": {
    "name": "ipython",
    "version": 3
   },
   "file_extension": ".py",
   "mimetype": "text/x-python",
   "name": "python",
   "nbconvert_exporter": "python",
   "pygments_lexer": "ipython3",
   "version": "3.8.13"
  }
 },
 "nbformat": 4,
 "nbformat_minor": 1
}
